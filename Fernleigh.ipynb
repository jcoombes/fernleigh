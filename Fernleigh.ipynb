{
 "cells": [
  {
   "cell_type": "markdown",
   "metadata": {},
   "source": [
    "# Fernleigh Road: To buy or not to buy?"
   ]
  },
  {
   "cell_type": "markdown",
   "metadata": {},
   "source": [
    "$20/01/18$"
   ]
  },
  {
   "cell_type": "markdown",
   "metadata": {},
   "source": [
    "<img src=\"me_and_fernleigh_landscape.jpg\"/>"
   ]
  },
  {
   "cell_type": "markdown",
   "metadata": {
    "collapsed": true
   },
   "source": []
  },
  {
   "cell_type": "markdown",
   "metadata": {},
   "source": [
    "Okay, here is a little visualisation to run the numbers on the Fernleigh road plan as I understand it. I am going to look at what the yield is, compare it to inflation and some other investments.\n",
    "\n",
    "I'm using a Jupyter Notebook so I can combine prose, maths and code. Hopefully, this notebook will also demonstrate a tiny fraction of what Python can do. Let's go."
   ]
  },
  {
   "cell_type": "markdown",
   "metadata": {},
   "source": [
    "## Inflation"
   ]
  },
  {
   "cell_type": "markdown",
   "metadata": {},
   "source": [
    "We want to find out what the average CPI is, so we know how high our yield needs to be to match or beat inflation. Let's grab some data from Office of National Statistics."
   ]
  },
  {
   "cell_type": "markdown",
   "metadata": {},
   "source": [
    "https://www.ons.gov.uk/economy/inflationandpriceindices/timeseries/d7g7/mm23\n"
   ]
  },
  {
   "cell_type": "code",
   "execution_count": null,
   "metadata": {
    "collapsed": true
   },
   "outputs": [],
   "source": [
    "import statistics as stats\n",
    "import matplotlib.pyplot as plt"
   ]
  },
  {
   "cell_type": "code",
   "execution_count": null,
   "metadata": {
    "collapsed": true
   },
   "outputs": [],
   "source": [
    "%matplotlib inline"
   ]
  },
  {
   "cell_type": "code",
   "execution_count": null,
   "metadata": {},
   "outputs": [],
   "source": [
    "with open('series-180118.csv', 'r') as inflation_data:\n",
    "    lines = inflation_data.readlines() #save the file in a list\n",
    "    monthly_data = lines[153:]  # slice out the relevant bit.\n",
    "    \n",
    "    inflation_strings = [x[-5:-2] for x in monthly_data] #slice just the number\n",
    "    inflation = [float(x) for x in inflation_strings] #save as a number.\n",
    "    \n",
    "    max_out = \"Max inflation since Jan 1989: \" + str(max(inflation))\n",
    "    min_out = \"Min inflation since Jan 1989: \" + str(min(inflation))\n",
    "    mean_out = \"Mean inflation since Jan 1989: \" + str(stats.mean(inflation))\n",
    "    stdev_out = \"Inflation standard deviation since Jan 1989: \" + str(stats.stdev(inflation))\n",
    "    \n",
    "    print(max_out, min_out, mean_out, stdev_out, sep = '\\n')\n",
    "    plt.plot(inflation)\n",
    "    plt.xlabel(\"Months since Jan 1989\")\n",
    "    plt.ylabel(\"CPI Inflation\")"
   ]
  },
  {
   "cell_type": "markdown",
   "metadata": {
    "collapsed": true
   },
   "source": [
    "Right. Inflation is $2.6 \\pm 1.8 \\%$. \n",
    "\n",
    "If we have a yield higher than $2.6\\%$ then we'll be safe from inflation $50\\%$ of the time.\n",
    "\n",
    "If we have a yield higher than $2.6 + 1.8 = 4.4\\%$, then we'll be safe from inflation $84\\%$ of the time."
   ]
  },
  {
   "cell_type": "markdown",
   "metadata": {
    "collapsed": true
   },
   "source": [
    "## NS&I Bonds"
   ]
  },
  {
   "cell_type": "markdown",
   "metadata": {},
   "source": [
    "Next up, the least risky investment I can think of. The National Savings and Investments is guaranteed for 100% of its value by HM The Treasury."
   ]
  },
  {
   "cell_type": "markdown",
   "metadata": {},
   "source": [
    "https://www.nsandi.com/guaranteed-growth-bonds"
   ]
  },
  {
   "cell_type": "markdown",
   "metadata": {},
   "source": [
    "3 Year Bonds, $2.20\\%$ compounded annually.\n",
    "If you invest $£1000$ for 3 years, you have"
   ]
  },
  {
   "cell_type": "code",
   "execution_count": null,
   "metadata": {},
   "outputs": [],
   "source": [
    "1000 * (1+0.022)**3 "
   ]
  },
  {
   "cell_type": "markdown",
   "metadata": {},
   "source": [
    "\n",
    "This investment is a bit liquid. If you withdraw the money before the 3 years, then you only lose interest on the last 90 days."
   ]
  },
  {
   "cell_type": "markdown",
   "metadata": {
    "collapsed": true
   },
   "source": [
    "## FTSE 100 Tracker"
   ]
  },
  {
   "cell_type": "markdown",
   "metadata": {},
   "source": [
    "Now for something a little riskier. A share has a capital value, and a dividend yield."
   ]
  },
  {
   "cell_type": "markdown",
   "metadata": {},
   "source": [
    "### Capital yield"
   ]
  },
  {
   "cell_type": "markdown",
   "metadata": {},
   "source": [
    "According to Google, here's how the value of the 100 companies that make up FTSE 100 has changed since 1984. \n",
    "\n",
    "https://www.google.co.uk/search?client=firefox-b&dcr=0&tbm=fin&q=INDEXFTSE:+UKX&stick=H4sIAAAAAAAAAONgecRowi3w8sc9YSntSWtOXmNU5eIKzsgvd80rySypFBLnYoOyeKW4uTj1c_UNjDJyzMp5AMBPego5AAAA&sa=X&ved=0ahUKEwjP2unlh-fYAhVmC8AKHcBrADsQ6c8CCDYwAA&biw=1536&bih=732#scso=uid_zntjWurDLIPcwALigZioDg_5:0"
   ]
  },
  {
   "cell_type": "markdown",
   "metadata": {},
   "source": [
    "FTSE 100 value\n",
    "\n",
    "6 Apr 1984     $\\qquad £1096.30$\n",
    "\n",
    "29 Dec 2017  $\\qquad £7700.96$ \n",
    "\n",
    "(+601.25% over 33 years)"
   ]
  },
  {
   "cell_type": "markdown",
   "metadata": {},
   "source": [
    "To convert this into an annual return, solve for r:\n",
    "\n",
    "$1096.30 \\times (1+r) ^{33} = 7700.96$"
   ]
  },
  {
   "cell_type": "markdown",
   "metadata": {},
   "source": [
    "$r = \\frac{7700.96}{1096.30}^{\\frac{1}{33}} - 1$"
   ]
  },
  {
   "cell_type": "code",
   "execution_count": null,
   "metadata": {},
   "outputs": [],
   "source": [
    "r = (7700.96/1096.30)**(1/33) - 1\n",
    "print(r)"
   ]
  },
  {
   "cell_type": "markdown",
   "metadata": {},
   "source": [
    "$6.1\\%$. Neato. But let's not forget about..."
   ]
  },
  {
   "cell_type": "markdown",
   "metadata": {},
   "source": [
    "### Dividend Yield"
   ]
  },
  {
   "cell_type": "markdown",
   "metadata": {},
   "source": [
    "Here's a source that says the current yield is $3.5\\%$. It's hard to find good data for this number, so let's just pretend I have taken the average over many years and discovered it's around $3\\%$.\n",
    "\n",
    "https://www.dividenddata.co.uk/dividendyield.py?market=ftse100"
   ]
  },
  {
   "cell_type": "code",
   "execution_count": null,
   "metadata": {},
   "outputs": [],
   "source": [
    "capital_yield = (1+0.06)**10\n",
    "dividend_yield = (1+0.03)**10\n",
    "\n",
    "compounded_sum = capital_yield + dividend_yield - 1\n",
    "combined_yield = (compounded_sum)**(1/10) - 1\n",
    "\n",
    "print(combined_yield)"
   ]
  },
  {
   "cell_type": "markdown",
   "metadata": {},
   "source": [
    "If you choose to reinvest the dividends, Investing in a FTSE 100 tracker give you an equivalent yield of $7.9\\%$."
   ]
  },
  {
   "cell_type": "markdown",
   "metadata": {},
   "source": [
    "To recap, we're trying to stop inflation eroding our savings. This means we need a yield greater than $2.6\\%$. NS&I bonds are super safe, less liquid and with a guaranteed yield of $2.2\\%$ they remove most of the inflation risk. Finally, the FTSE 100 is riskier, and rewardier with a combined yield of $7.9\\%$. Onto the main event:"
   ]
  },
  {
   "cell_type": "markdown",
   "metadata": {},
   "source": [
    "## Fernleigh Road"
   ]
  },
  {
   "cell_type": "markdown",
   "metadata": {},
   "source": [
    "Our ancestral home - Let's see how profitable she is."
   ]
  },
  {
   "cell_type": "markdown",
   "metadata": {},
   "source": [
    "The house is worth $£800,000$. Let's call it $£600,000$ for now.\n",
    "\n",
    "The plan is to live in one room, keep the study and share the downstairs. Rent the remaining 3 bedrooms at $£800$pcm, and a car parking space at $£1000$ pcm."
   ]
  },
  {
   "cell_type": "markdown",
   "metadata": {},
   "source": [
    "After a little googling, I found a few large rooms in N21 for $£500$ pcm bills inclusive. My rent in Earl's Court is $£693$pcm. Let's use their $£500$ figure for now.\n",
    "\n",
    "https://www.spareroom.co.uk/flatshare/london/winchmore_hill/9475759\n",
    "\n",
    "https://www.spareroom.co.uk/flatshare/london/winchmore_hill/9494992\n",
    "\n",
    "https://www.spareroom.co.uk/flatshare/london/winchmore_hill/8136295\n",
    "\n",
    "https://www.spareroom.co.uk/flatshare/london/winchmore_hill/4339659"
   ]
  },
  {
   "cell_type": "markdown",
   "metadata": {},
   "source": [
    "I have no idea how valuable the car parking space is, so I take you at your word. It's worth $£1000$ pcm."
   ]
  },
  {
   "cell_type": "markdown",
   "metadata": {},
   "source": [
    "There is also value in living in the house. It cuts your expenses, we've just said these rooms are worth $£500$ pcm."
   ]
  },
  {
   "cell_type": "markdown",
   "metadata": {},
   "source": [
    "Alright, it's modelling time! You can change the numbers in green to change the model."
   ]
  },
  {
   "cell_type": "code",
   "execution_count": null,
   "metadata": {},
   "outputs": [],
   "source": [
    "house_cost = 600000\n",
    "initial_renovation_cost = 0 # I don't know, so let's assume zero.\n",
    "mortgage_amount = 500000\n",
    "mortgage_rate = 0.025\n",
    "\n",
    "bedrooms = 4 # Includes your room because you aren't paying someone else rent.\n",
    "monthly_rent = 500\n",
    "parking_rent = 1000\n",
    "occupancy = 0.7 #How full is your house over ten years?\n",
    "landlord_costs = 0 #How much damage do lodgers do? Landlord insurance? HMO?\n",
    "\n",
    "monthly_max_revenue = bedrooms * monthly_rent + parking_rent\n",
    "monthly_revenue = monthly_max_value * occupancy\n",
    "\n",
    "monthly_profit = monthly_revenue - landlord_costs\n",
    "\n",
    "annual_mortgage_cost = mortgage_amount * mortgage_rate\n",
    "annual_profit = monthly_profit * 12 - annual_mortgage_cost\n",
    "\n",
    "annual_yield = annual_profit/(house_cost + initial_renovation_cost)\n",
    "\n",
    "\n",
    "\n",
    "profit_str = \"So Fernleigh road makes an profit of £{:.0f} per year.\".format(\n",
    "    annual_profit)\n",
    "\n",
    "yield_str = \"and our yield is {:.1f}% \\n\".format(annual_yield*100)\n",
    "\n",
    "print(profit_str)\n",
    "print(yield_str)\n",
    "\n",
    "if annual_yield > 0.079:\n",
    "    print(\"This yield is higher than a FTSE 100 tracker.\")\n",
    "\n",
    "elif annual_yield > 0.026:\n",
    "    print(\"This yield is better than inflation but worse than FTSE tracker.\")\n",
    "\n",
    "elif annual_yield > 0.022:\n",
    "    print(\"This yield is lower than inflation, but better than bonds.\")\n",
    "else:\n",
    "    print(\"This yield is less than bonds, inflation and FTSE tracker.\")\n"
   ]
  },
  {
   "cell_type": "markdown",
   "metadata": {},
   "source": [
    "Have a play around with the inputs to see how the result changes."
   ]
  },
  {
   "cell_type": "markdown",
   "metadata": {},
   "source": [
    "This investment is less liquid than anything else we've looked at so far. It is much slower to remortgage a house than to sell shares, or even bonds."
   ]
  },
  {
   "cell_type": "markdown",
   "metadata": {},
   "source": [
    "Things the model above has ignored:\n",
    "    \n",
    "    Mum probably wants some renumeration for a quarter of the house."
   ]
  },
  {
   "cell_type": "markdown",
   "metadata": {},
   "source": [
    "It seems that for most input numbers, the yield isn't high enough for the risk. Back to the drawing board for another business plan using Fernleigh road?"
   ]
  },
  {
   "cell_type": "markdown",
   "metadata": {},
   "source": [
    "Also, an AirBnB in Winchmore hill would give you £30 a night, but the occupancy would be lower. Plug in numbers you think are sensible and see what comes out. :)"
   ]
  },
  {
   "cell_type": "markdown",
   "metadata": {},
   "source": [
    "## Epilogue"
   ]
  },
  {
   "cell_type": "markdown",
   "metadata": {},
   "source": [
    "There's something *big* this model forgets."
   ]
  },
  {
   "cell_type": "code",
   "execution_count": null,
   "metadata": {
    "scrolled": true
   },
   "outputs": [],
   "source": [
    "how_many_years = 25\n",
    "amount_invested = house_cost - mortgage_amount\n",
    "\n",
    "tracker_total = amount_invested * (1+combined_yield)**how_many_years\n",
    "fernleigh_total = annual_profit * how_many_years\n",
    "difference = tracker_total - fernleigh_total\n",
    "\n",
    "tracker_str = \"A FTSE 100 tracker makes £{:.0f} over {} years\".format(\n",
    "    tracker_total, how_many_years)\n",
    "\n",
    "fernleigh_str = \"Fernleigh makes £{:.0f} over the same time period. \\n\".format(\n",
    "    fernleigh_total)\n",
    "\n",
    "diff_str = \"By choosing Fernleigh over a tracker, you would make £{:.0f} \\n fewer 2018 pounds over {} years.\".format(\n",
    "    difference, how_many_years)\n",
    "\n",
    "print(tracker_str)\n",
    "print(fernleigh_str)\n",
    "print(diff_str)"
   ]
  },
  {
   "cell_type": "markdown",
   "metadata": {},
   "source": [
    "How much is living in the house of our forebears worth?"
   ]
  },
  {
   "cell_type": "markdown",
   "metadata": {},
   "source": [
    "<img src=\"walking2.gif\">"
   ]
  },
  {
   "cell_type": "code",
   "execution_count": null,
   "metadata": {
    "collapsed": true
   },
   "outputs": [],
   "source": []
  }
 ],
 "metadata": {
  "anaconda-cloud": {},
  "kernelspec": {
   "display_name": "Python [conda root]",
   "language": "python",
   "name": "conda-root-py"
  },
  "language_info": {
   "codemirror_mode": {
    "name": "ipython",
    "version": 3
   },
   "file_extension": ".py",
   "mimetype": "text/x-python",
   "name": "python",
   "nbconvert_exporter": "python",
   "pygments_lexer": "ipython3",
   "version": "3.5.2"
  }
 },
 "nbformat": 4,
 "nbformat_minor": 2
}
